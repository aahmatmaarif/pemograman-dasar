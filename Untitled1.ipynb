{
  "nbformat": 4,
  "nbformat_minor": 0,
  "metadata": {
    "colab": {
      "provenance": [],
      "authorship_tag": "ABX9TyOy3M0pe+rnoTm2jFsAiSUH",
      "include_colab_link": true
    },
    "kernelspec": {
      "name": "python3",
      "display_name": "Python 3"
    },
    "language_info": {
      "name": "python"
    }
  },
  "cells": [
    {
      "cell_type": "markdown",
      "metadata": {
        "id": "view-in-github",
        "colab_type": "text"
      },
      "source": [
        "<a href=\"https://colab.research.google.com/github/aahmatmaarif/pemograman-dasar/blob/main/Untitled1.ipynb\" target=\"_parent\"><img src=\"https://colab.research.google.com/assets/colab-badge.svg\" alt=\"Open In Colab\"/></a>"
      ]
    },
    {
      "cell_type": "code",
      "execution_count": null,
      "metadata": {
        "colab": {
          "base_uri": "https://localhost:8080/"
        },
        "id": "x62UyaJimE_h",
        "outputId": "e43cd30e-3602-4c48-bb76-1637881ae20a"
      },
      "outputs": [
        {
          "output_type": "stream",
          "name": "stdout",
          "text": [
            "43\n"
          ]
        }
      ],
      "source": [
        "# deklarasi variabel list\n",
        "numbers = [23, 43, 15, 34]\n",
        "# cara mengakses elemen dalam variabel list\n",
        "numbers [0] #23\n",
        "numbers  [1] #43\n",
        "numbers  [2] #15\n",
        "numbers  [3] #34\n",
        "#cara mengubah nilai elemen dalam variabel list\n",
        "\n",
        "numbers [2] # 51\n",
        "\n",
        "numbers [2] # 51\n",
        "\n",
        "print (numbers [1]) #lakukan untuk setiap indexnya dan lihat hasilnya\n",
        "\n",
        "#dekklarasi variabel list numbers\n",
        "\n",
        "numbers = [1, 2, 3]\n",
        "\n",
        "# menambahkan elemen di indeks ke-4 numbers.insert (4, 5) # [1, 2, 3, 5]\n",
        "\n",
        "# mengubah elemen di indeks ke-4 numbers [3] = 4 # [1, 2, 3, 4]\n",
        "\n",
        "# menghapus elemen di indeks ke-2 numbers.pop(2) # [1, 2, 4]\n",
        "\n",
        "\n",
        "#print lalu lihat hasilnya\n",
        "\n"
      ]
    },
    {
      "cell_type": "code",
      "source": [
        "# deklarasi variabel list numbers numbers = [1, 2, 3]\n",
        "\n",
        "# menambahkan elemen di indeks ke-4 numbers.insert(4, 5) # [1, 2, 3, 5]\n",
        "\n",
        "# mengubah elemen di indeks ke-4 numbers [3] = 4 # [1, 2, 3, 4]\n",
        "\n",
        "# menghapus elemen di indeks ke-2 numbers.pop(2) # [1, 2, 4]\n",
        "\n",
        "#print setiap hasil perubahan dan amati hasilnya\n",
        "\n",
        "#deklarasi variabel list numbers\n",
        "\n",
        "myList = [1, \"Rumah\", 4.5, True, [\"Kamar mandi\", \"Kamar tidur\"]]\n",
        "\n",
        "#1\n",
        "\n",
        "# \"Rumah\"\n",
        "\n",
        "# cara mengakses elemen dalam variabel list\n",
        "\n",
        "myList[0]\n",
        "\n",
        "myList[1]\n",
        "\n",
        "myList[3] # True\n",
        "\n",
        "myList[4] # [\"Kamar mandi\", \"Kamar tidur\"]\n",
        "\n",
        "# cara mengakses elemen dalam sublist\n",
        "\n",
        "myList[4] [0] # \"Kamar mandi\"\n",
        "\n",
        "myList[4] [1] # \"Kamar tidur\"\n",
        "\n",
        "#lakuan print lalu amati hasilnya\n",
        "\n"
      ],
      "metadata": {
        "colab": {
          "base_uri": "https://localhost:8080/",
          "height": 36
        },
        "id": "3lfU-dgc6361",
        "outputId": "c2cf3a1d-3ef3-42c5-dd3a-baa0d16a59dc"
      },
      "execution_count": null,
      "outputs": [
        {
          "output_type": "execute_result",
          "data": {
            "text/plain": [
              "'Kamar tidur'"
            ],
            "application/vnd.google.colaboratory.intrinsic+json": {
              "type": "string"
            }
          },
          "metadata": {},
          "execution_count": 9
        }
      ]
    },
    {
      "cell_type": "code",
      "source": [
        "# deklarasi variabel list\n",
        "\n",
        "numbers = [23, 43, 15, 34]\n",
        "\n",
        "# cara mengakses elemen dalam variabel list\n",
        "\n",
        "numbers [0] # 23\n",
        "\n",
        "numbers [1] # 43\n",
        "\n",
        "numbers [2] # 15\n",
        "\n",
        "numbers [3] # 34\n",
        "\n",
        "# cara mengubah nilai elemen dalam variabel list\n",
        "\n",
        "numbers [2] # 51\n",
        "\n",
        "numbers [2] # 51\n",
        "\n",
        "print (numbers [1]) #lakukan untuk setiap indexnya dan lihat hasilnya\n",
        "\n",
        "# deklarasi variabel list numbers numbers = [1, 2, 3]\n",
        "\n",
        "# menambahkan elemen di indeks ke-4\n",
        "\n",
        "numbers.insert(4, 5)\n",
        "\n",
        "# [1, 2, 3, 5]\n",
        "\n",
        "# mengubah elemen di indeks ke-4 numbers [3] = 4 # [1, 2, 3, 4]\n",
        "\n",
        "# menghapus elemen di indeks ke-2 numbers.pop (2) # [1, 2, 4]\n",
        "\n",
        "#print lalu lihat hasilnya"
      ],
      "metadata": {
        "colab": {
          "base_uri": "https://localhost:8080/"
        },
        "id": "Lh-D7XsH8XAP",
        "outputId": "a1035cb2-7716-4cd5-bbee-3db0bed8811f"
      },
      "execution_count": null,
      "outputs": [
        {
          "output_type": "stream",
          "name": "stdout",
          "text": [
            "43\n"
          ]
        }
      ]
    },
    {
      "cell_type": "code",
      "source": [
        "# deklarasi variabel tuple\n",
        "\n",
        "numbers = (23, 43, 15, 34)\n",
        "\n",
        "# 23\n",
        "\n",
        "# cara mengakses elemen dalam variabel tuple\n",
        "\n",
        "numbers[0]\n",
        "\n",
        "numbers [1] # 43\n",
        "\n",
        "numbers [2] # 15\n",
        "\n",
        "#lakuan print lalu amati hasilnya"
      ],
      "metadata": {
        "colab": {
          "base_uri": "https://localhost:8080/"
        },
        "id": "4TQJbO8wP5nu",
        "outputId": "561702b1-ce27-4563-f5c2-26789472551d"
      },
      "execution_count": null,
      "outputs": [
        {
          "output_type": "execute_result",
          "data": {
            "text/plain": [
              "15"
            ]
          },
          "metadata": {},
          "execution_count": 11
        }
      ]
    },
    {
      "cell_type": "code",
      "source": [
        "# deklarasi variabel set a dan b\n",
        "\n",
        "a = {1, 2, 3}\n",
        "\n",
        "b = {2, 3, 4}\n",
        "\n",
        "# operasi gabungan\n",
        "\n",
        "a.union(b) # {1, 2, 3, 4}\n",
        "\n",
        "# operasi irisan\n",
        "\n",
        "a.intersection(b)\n",
        "\n",
        "# {2, 3}\n",
        "\n",
        "# operasi perbedaan\n",
        "\n",
        "a.symmetric_difference(b)\n",
        "\n",
        "# {1, 4}\n",
        "\n",
        "#lakukan print dan lihat hasilny"
      ],
      "metadata": {
        "colab": {
          "base_uri": "https://localhost:8080/"
        },
        "id": "1S9ZAAeOQdto",
        "outputId": "0db4130c-9fe6-43af-e7a1-50f14adcab73"
      },
      "execution_count": null,
      "outputs": [
        {
          "output_type": "execute_result",
          "data": {
            "text/plain": [
              "{1, 4}"
            ]
          },
          "metadata": {},
          "execution_count": 12
        }
      ]
    },
    {
      "cell_type": "code",
      "source": [
        "# deklarasi variabel dictionary\n",
        "\n",
        "propertyDetail = {\"numFloors\": 1, \"propertyType\": \"Rumah\", \"hasTerrace\": True, \"hasGarage\": False}\n",
        "\n",
        "#1\n",
        "\n",
        "# Rumah\n",
        "\n",
        "# True\n",
        "\n",
        "# cara mengakses elemen dalam variabel dictionary\n",
        "\n",
        "propertyDetail[\"numFloors\"] #1\n",
        "\n",
        "propertyDetail[\"propertyType\"]\n",
        "\n",
        "propertyDetail[\"hasTerrace\"]\n",
        "\n",
        "propertyDetail[\"hasGarage\"]\n",
        "\n",
        "# False\n",
        "\n",
        "# cara mengubah nilai elemen dalam variabel dictionary\n",
        "\n",
        "propertyDetail [\"hasTerrace\"] = False\n",
        "\n",
        "propertyDetail[\"hasTerrace\"]\n",
        "\n",
        "# False\n",
        "\n",
        "#print(propertyDetail[\"propertyType\"])\n",
        "\n",
        "#lakuan print lalu amati hasilnya"
      ],
      "metadata": {
        "colab": {
          "base_uri": "https://localhost:8080/"
        },
        "id": "sB5uwqZgRT_O",
        "outputId": "103fbf67-d1cd-4666-a279-c60ab140c19a"
      },
      "execution_count": null,
      "outputs": [
        {
          "output_type": "execute_result",
          "data": {
            "text/plain": [
              "False"
            ]
          },
          "metadata": {},
          "execution_count": 34
        }
      ]
    },
    {
      "cell_type": "code",
      "source": [
        "# deklarasi variabel dictionary\n",
        "\n",
        "propertyDetail = {\"numFloors\": 1, \"propertyType\": \"Rumah\", \"hasTerrace\": True, \"hasGarage\": False}\n",
        "\n",
        "\n",
        "\n",
        "# cara mengakses elemen dalam variabel dictionary\n",
        "\n",
        "propertyDetail[\"numFloors\"] #1\n",
        "\n",
        "propertyDetail[\"propertyType\"] # Rumah\n",
        "\n",
        "propertyDetail[\"hasTerrace\"] # True\n",
        "\n",
        "propertyDetail[\"hasGarage\"] # True\n",
        "\n",
        "\n",
        "\n",
        "# cara mengubah nilai elemen dalam variabel dictionary\n",
        "\n",
        "propertyDetail [\"hasTerrace\"] = False\n",
        "\n",
        "propertyDetail[\"hasTerrace\"]\n",
        "\n",
        "# False\n",
        "\n",
        "#print(propertyDetail[\"propertyType\"])\n",
        "\n",
        "#lakuan print lalu amati hasilnya"
      ],
      "metadata": {
        "colab": {
          "base_uri": "https://localhost:8080/"
        },
        "outputId": "bd928378-bbec-45a6-fef1-af963cd11b2d",
        "id": "cw5Lg6k3Rsz3"
      },
      "execution_count": null,
      "outputs": [
        {
          "output_type": "execute_result",
          "data": {
            "text/plain": [
              "False"
            ]
          },
          "metadata": {},
          "execution_count": 37
        }
      ]
    },
    {
      "cell_type": "code",
      "source": [
        "\n",
        "\n",
        "# variabel biodata\n",
        "firstName = \"Ahmat\"\n",
        "lastName = \"Ma'arif\"\n",
        "age = 20\n",
        "isMarried = False\n",
        "\n",
        "# Tampilkan hasil menggunakan fungsi print()\n",
        "print(\"First Name:\", firstName)\n",
        "print(\"Last Name:\", lastName)\n",
        "print(\"Age:\", age)\n",
        "print(\"Is Married:\", isMarried)\n"
      ],
      "metadata": {
        "colab": {
          "base_uri": "https://localhost:8080/"
        },
        "id": "4N_MX5SW6_9n",
        "outputId": "09352332-ad78-4752-f937-18004d21ce6b"
      },
      "execution_count": 3,
      "outputs": [
        {
          "output_type": "stream",
          "name": "stdout",
          "text": [
            "First Name: Ahmat\n",
            "Last Name: Ma'arif\n",
            "Age: 20\n",
            "Is Married: False\n"
          ]
        }
      ]
    },
    {
      "cell_type": "code",
      "source": [
        "\n",
        "\n",
        "# Buat dictionary dengan biodata diri\n",
        "data_diri = {\n",
        "    \"firstName\": \"Ahmat\",\n",
        "    \"lastName\": \"Ma'arif\",\n",
        "    \"age\": 20,\n",
        "    \"isMarried\": False}\n",
        "\n",
        "# Tampilkan hasil menggunakan fungsi print()\n",
        "print(\"Data Diri:\", data_diri)\n",
        "\n",
        "# Tampilkan tiap nilai secara terpisah\n",
        "print(\"First Name:\", data_diri[\"firstName\"])\n",
        "print(\"Last Name:\", data_diri[\"lastName\"])\n",
        "print(\"Age:\", data_diri[\"age\"])\n",
        "print(\"Is Married:\", data_diri[\"isMarried\"])\n"
      ],
      "metadata": {
        "colab": {
          "base_uri": "https://localhost:8080/"
        },
        "id": "hLbkggNMHkQS",
        "outputId": "e4f36e7a-5d9c-4264-d26c-1330ad8e0f9f"
      },
      "execution_count": 7,
      "outputs": [
        {
          "output_type": "stream",
          "name": "stdout",
          "text": [
            "Data Diri: {'firstName': 'Ahmat', 'lastName': \"Ma'arif\", 'age': 20, 'isMarried': False}\n",
            "First Name: Ahmat\n",
            "Last Name: Ma'arif\n",
            "Age: 20\n",
            "Is Married: False\n"
          ]
        }
      ]
    },
    {
      "cell_type": "code",
      "source": [
        "# Membuat variabel inspeksi dengan tipe data list\n",
        "inspeksi = [\n",
        "    \"pemahaman terhadap rencana dan desain\",\n",
        "    \"ketersediaan bahan dan peralatan\",\n",
        "    \"pengawasan pekerjaan\",\n",
        "    \"kualitas konstruksi\",\n",
        "    \"keselamatan kerja\",\n",
        "    \"koordinasi dengan pemilik proyek\"\n",
        "]\n",
        "\n",
        "# Menampilkan isi variabel inspeksi\n",
        "print(\"Daftar Inspeksi Proyek:\")\n",
        "for item in inspeksi:\n",
        "    print(\"-\",item)"
      ],
      "metadata": {
        "colab": {
          "base_uri": "https://localhost:8080/"
        },
        "id": "QY3ydqLwUy-l",
        "outputId": "58ce35b7-784e-40fc-e29d-a43ab39d6b2c"
      },
      "execution_count": 11,
      "outputs": [
        {
          "output_type": "stream",
          "name": "stdout",
          "text": [
            "Daftar Inspeksi Proyek:\n",
            "- pemahaman terhadap rencana dan desain\n",
            "- ketersediaan bahan dan peralatan\n",
            "- pengawasan pekerjaan\n",
            "- kualitas konstruksi\n",
            "- keselamatan kerja\n",
            "- koordinasi dengan pemilik proyek\n"
          ]
        }
      ]
    },
    {
      "cell_type": "code",
      "source": [
        "# Membuat dictionary untuk waktu datang (startTime)\n",
        "startTime = {\n",
        "    \"HH\": 9,\n",
        "    \"mm\": 23,\n",
        "    \"ss\": 57}\n",
        "\n",
        "# Membuat dictionary untuk waktu pulang (endTime)\n",
        "endTime = {\"HH\": 15,\n",
        "           \"mm\": 25,\n",
        "           \"ss\": 43}\n",
        "\n",
        "# Menampilkan hasil\n",
        "print(\"Waktu Datang (startTime):\", startTime)\n",
        "print(\"Waktu Pulang (endTime):\",endTime)"
      ],
      "metadata": {
        "colab": {
          "base_uri": "https://localhost:8080/"
        },
        "id": "-4D3H-Q9Yt7k",
        "outputId": "4952058c-d6c0-4610-c5db-8326507deb96"
      },
      "execution_count": 14,
      "outputs": [
        {
          "output_type": "stream",
          "name": "stdout",
          "text": [
            "Waktu Datang (startTime): {'HH': 9, 'mm': 23, 'ss': 57}\n",
            "Waktu Pulang (endTime): {'HH': 15, 'mm': 25, 'ss': 43}\n"
          ]
        }
      ]
    },
    {
      "cell_type": "code",
      "source": [
        "# Katalog produk dalam bentuk set\n",
        "katalog_A = {'pena', 'penghapus', 'buku', 'pensil'}\n",
        "katalog_B = {'penggaris', 'tip x', 'tas', 'gunting'}\n",
        "\n",
        "# Daftar produk yang sedang diskon dalam bentuk tuple\n",
        "produk_diskon = ('pena', 'pengaris', 'tas')\n",
        "\n",
        "# 1. Gabungkan katalog_A dan katalog_B menjadi satu set bernama katalog_lengkap\n",
        "katalog_lengkap = katalog_A.union(katalog_B)\n",
        "\n",
        "# 2. Cari produk mana saja dari katalog_lengkap yang juga ada di produk_diskon\n",
        "produk_promo_aktif = katalog_lengkap.intersection(produk_diskon)\n",
        "\n",
        "# Menampilkan hasil\n",
        "print(\"Katalog Lengkap:\", katalog_lengkap)\n",
        "print(\"Produk Promo Aktif:\", produk_promo_aktif)"
      ],
      "metadata": {
        "colab": {
          "base_uri": "https://localhost:8080/"
        },
        "id": "6s9Opso1c3qs",
        "outputId": "8d44b161-bd3f-4a97-84a0-f8050aa5ff62"
      },
      "execution_count": 16,
      "outputs": [
        {
          "output_type": "stream",
          "name": "stdout",
          "text": [
            "Katalog Lengkap: {'penghapus', 'tip x', 'tas', 'gunting', 'pensil', 'buku', 'pena', 'penggaris'}\n",
            "Produk Promo Aktif: {'pena', 'tas'}\n"
          ]
        }
      ]
    }
  ]
}