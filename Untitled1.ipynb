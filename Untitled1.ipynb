{
  "nbformat": 4,
  "nbformat_minor": 0,
  "metadata": {
    "colab": {
      "provenance": [],
      "authorship_tag": "ABX9TyMxk3jfjAaGfQVBjc7wrasS",
      "include_colab_link": true
    },
    "kernelspec": {
      "name": "python3",
      "display_name": "Python 3"
    },
    "language_info": {
      "name": "python"
    }
  },
  "cells": [
    {
      "cell_type": "markdown",
      "metadata": {
        "id": "view-in-github",
        "colab_type": "text"
      },
      "source": [
        "<a href=\"https://colab.research.google.com/github/aahmatmaarif/pemograman-dasar/blob/main/Untitled1.ipynb\" target=\"_parent\"><img src=\"https://colab.research.google.com/assets/colab-badge.svg\" alt=\"Open In Colab\"/></a>"
      ]
    },
    {
      "cell_type": "code",
      "execution_count": 4,
      "metadata": {
        "colab": {
          "base_uri": "https://localhost:8080/"
        },
        "id": "x62UyaJimE_h",
        "outputId": "5ea4a220-9e0d-4038-8fc1-ccc73631308d"
      },
      "outputs": [
        {
          "output_type": "stream",
          "name": "stdout",
          "text": [
            "43\n"
          ]
        }
      ],
      "source": [
        "# deklarasi variabel list\n",
        "numbers = [23, 43, 15, 34]\n",
        "# cara mengakses elemen dalam variabel list\n",
        "numbers [0] #23\n",
        "numbers  [1] #43\n",
        "numbers  [2] #15\n",
        "numbers  [3] #34\n",
        "#cara mengubah nilai elemen dalam variabel list\n",
        "\n",
        "numbers [2] # 51\n",
        "\n",
        "numbers [2] # 51\n",
        "\n",
        "print (numbers [1]) #lakukan untuk setiap indexnya dan lihat hasilnya\n",
        "\n",
        "#dekklarasi variabel list numbers\n",
        "\n",
        "numbers = [1, 2, 3]\n",
        "\n",
        "# menambahkan elemen di indeks ke-4 numbers.insert (4, 5) # [1, 2, 3, 5]\n",
        "\n",
        "# mengubah elemen di indeks ke-4 numbers [3] = 4 # [1, 2, 3, 4]\n",
        "\n",
        "# menghapus elemen di indeks ke-2 numbers.pop(2) # [1, 2, 4]\n",
        "\n",
        "\n",
        "#print lalu lihat hasilnya\n",
        "\n"
      ]
    },
    {
      "cell_type": "code",
      "source": [
        "# deklarasi variabel list numbers numbers = [1, 2, 3]\n",
        "\n",
        "# menambahkan elemen di indeks ke-4 numbers.insert(4, 5) # [1, 2, 3, 5]\n",
        "\n",
        "# mengubah elemen di indeks ke-4 numbers [3] = 4 # [1, 2, 3, 4]\n",
        "\n",
        "# menghapus elemen di indeks ke-2 numbers.pop(2) # [1, 2, 4]\n",
        "\n",
        "#print setiap hasil perubahan dan amati hasilnya\n",
        "\n",
        "#deklarasi variabel list numbers\n",
        "\n",
        "myList = [1, \"Rumah\", 4.5, True, [\"Kamar mandi\", \"Kamar tidur\"]]\n",
        "\n",
        "#1\n",
        "\n",
        "# \"Rumah\"\n",
        "\n",
        "# cara mengakses elemen dalam variabel list\n",
        "\n",
        "myList[0]\n",
        "\n",
        "myList[1]\n",
        "\n",
        "myList[3] # True\n",
        "\n",
        "myList[4] # [\"Kamar mandi\", \"Kamar tidur\"]\n",
        "\n",
        "# cara mengakses elemen dalam sublist\n",
        "\n",
        "myList[4] [0] # \"Kamar mandi\"\n",
        "\n",
        "myList[4] [1] # \"Kamar tidur\"\n",
        "\n",
        "#lakuan print lalu amati hasilnya\n",
        "\n"
      ],
      "metadata": {
        "colab": {
          "base_uri": "https://localhost:8080/",
          "height": 36
        },
        "id": "3lfU-dgc6361",
        "outputId": "8f3ae3e1-9462-4aa8-988c-e28a64a19118"
      },
      "execution_count": 6,
      "outputs": [
        {
          "output_type": "execute_result",
          "data": {
            "text/plain": [
              "'Kamar tidur'"
            ],
            "application/vnd.google.colaboratory.intrinsic+json": {
              "type": "string"
            }
          },
          "metadata": {},
          "execution_count": 6
        }
      ]
    },
    {
      "cell_type": "code",
      "source": [
        "# deklarasi variabel list\n",
        "\n",
        "numbers = [23, 43, 15, 34]\n",
        "\n",
        "# cara mengakses elemen dalam variabel list\n",
        "\n",
        "numbers [0] # 23\n",
        "\n",
        "numbers [1] # 43\n",
        "\n",
        "numbers [2] # 15\n",
        "\n",
        "numbers [3] # 34\n",
        "\n",
        "# cara mengubah nilai elemen dalam variabel list\n",
        "\n",
        "numbers [2] # 51\n",
        "\n",
        "numbers [2] # 51\n",
        "\n",
        "print (numbers [1]) #lakukan untuk setiap indexnya dan lihat hasilnya\n",
        "\n",
        "# deklarasi variabel list numbers numbers = [1, 2, 3]\n",
        "\n",
        "# menambahkan elemen di indeks ke-4\n",
        "\n",
        "numbers.insert(4, 5)\n",
        "\n",
        "# [1, 2, 3, 5]\n",
        "\n",
        "# mengubah elemen di indeks ke-4 numbers [3] = 4 # [1, 2, 3, 4]\n",
        "\n",
        "# menghapus elemen di indeks ke-2 numbers.pop (2) # [1, 2, 4]\n",
        "\n",
        "#print lalu lihat hasilnya"
      ],
      "metadata": {
        "colab": {
          "base_uri": "https://localhost:8080/"
        },
        "id": "Lh-D7XsH8XAP",
        "outputId": "2b8c1dbd-380a-4970-9144-56d126cc5b00"
      },
      "execution_count": 7,
      "outputs": [
        {
          "output_type": "stream",
          "name": "stdout",
          "text": [
            "43\n"
          ]
        }
      ]
    }
  ]
}