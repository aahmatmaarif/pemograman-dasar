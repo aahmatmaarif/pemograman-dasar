{
  "nbformat": 4,
  "nbformat_minor": 0,
  "metadata": {
    "colab": {
      "provenance": [],
      "authorship_tag": "ABX9TyP7LukLeMFDhpOiDUl4X9qI",
      "include_colab_link": true
    },
    "kernelspec": {
      "name": "python3",
      "display_name": "Python 3"
    },
    "language_info": {
      "name": "python"
    }
  },
  "cells": [
    {
      "cell_type": "markdown",
      "metadata": {
        "id": "view-in-github",
        "colab_type": "text"
      },
      "source": [
        "<a href=\"https://colab.research.google.com/github/aahmatmaarif/pemograman-dasar/blob/main/Untitled1.ipynb\" target=\"_parent\"><img src=\"https://colab.research.google.com/assets/colab-badge.svg\" alt=\"Open In Colab\"/></a>"
      ]
    },
    {
      "cell_type": "code",
      "execution_count": 8,
      "metadata": {
        "colab": {
          "base_uri": "https://localhost:8080/"
        },
        "id": "PgOkUSViuoT3",
        "outputId": "23aaba7c-5891-4c22-8c58-d62f00af9fec"
      },
      "outputs": [
        {
          "output_type": "stream",
          "name": "stdout",
          "text": [
            "Nama:Ahmat ma'arif\n",
            "Umur:19\n",
            "Alamat:botung, pasaman timur, sumatra barat\n",
            "Hobi:sepak bola\n",
            "JurusanElektro\n",
            "Nim;4232401013\n",
            "Luas persegi(sisi 4.5): 20.25\n"
          ]
        }
      ],
      "source": [
        "# Fungsi dengan annotation\n",
        "def luas_persegi(sisi: float) -> float:\n",
        "    \"\"\"menghitung luas persegi berdasarkan panjang sisi.\"\"\"\n",
        "    return sisi * sisi\n",
        "\n",
        "# Variabel dengan annotation\n",
        "nama: str = \"Ahmat ma'arif\"\n",
        "umur: int = 19\n",
        "alamat: str = \"botung, pasaman timur, sumatra barat\"\n",
        "hobi: str = \"sepak bola\"\n",
        "jurusan: str = \"Elektro\"\n",
        "nim: str = \"4232401013\"\n",
        "\n",
        "# output\n",
        "print(f\"Nama:{nama}\")\n",
        "print(f\"Umur:{umur}\")\n",
        "print(f\"Alamat:{alamat}\")\n",
        "print(f\"Hobi:{hobi}\")\n",
        "print(f\"Jurusan{jurusan}\")\n",
        "print(f\"Nim;{nim}\")\n",
        "print(f\"Luas persegi(sisi 4.5): {luas_persegi(4.5)}\")"
      ]
    }
  ]
}