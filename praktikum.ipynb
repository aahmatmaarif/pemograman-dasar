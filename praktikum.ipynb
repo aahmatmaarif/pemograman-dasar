{
  "nbformat": 4,
  "nbformat_minor": 0,
  "metadata": {
    "colab": {
      "provenance": [],
      "authorship_tag": "ABX9TyPX6Df3xUYxJl2ROYmtsPv2",
      "include_colab_link": true
    },
    "kernelspec": {
      "name": "python3",
      "display_name": "Python 3"
    },
    "language_info": {
      "name": "python"
    }
  },
  "cells": [
    {
      "cell_type": "markdown",
      "metadata": {
        "id": "view-in-github",
        "colab_type": "text"
      },
      "source": [
        "<a href=\"https://colab.research.google.com/github/aahmatmaarif/pemograman-dasar/blob/main/praktikum.ipynb\" target=\"_parent\"><img src=\"https://colab.research.google.com/assets/colab-badge.svg\" alt=\"Open In Colab\"/></a>"
      ]
    },
    {
      "cell_type": "code",
      "execution_count": null,
      "metadata": {
        "colab": {
          "base_uri": "https://localhost:8080/"
        },
        "id": "_lt6K1sErBOE",
        "outputId": "7dd6cbc1-9423-463a-9dbb-210e0548ca08"
      },
      "outputs": [
        {
          "output_type": "stream",
          "name": "stdout",
          "text": [
            "=== BIODATA PRAKTIKAN ===\n",
            "Nama     : Ahmat Ma’arif\n",
            "NIM      : 4232401013\n",
            "Kelas    : rpe pagi A\n",
            "Jurusan  : Teknik Elektro\n",
            "Kampus   : Politeknik Negeri Batam\n"
          ]
        }
      ],
      "source": [
        "def biodata():\n",
        "    print(\"=== BIODATA PRAKTIKAN ===\")\n",
        "    print(\"Nama     : Ahmat Ma’arif\")\n",
        "    print(\"NIM      : 4232401013\")\n",
        "    print(\"Kelas    : rpe pagi A\")\n",
        "    print(\"Jurusan  : Teknik Elektro\")\n",
        "    print(\"Kampus   : Politeknik Negeri Batam\")\n",
        "\n",
        "biodata()\n"
      ]
    },
    {
      "cell_type": "code",
      "source": [
        "def hitung_volume_balok(p, l, t):\n",
        "    return p * l * t\n",
        "\n",
        "print(\"Volume balok dengan ukuran 4x3x2 adalah:\", hitung_volume_balok(4, 3, 2))\n"
      ],
      "metadata": {
        "colab": {
          "base_uri": "https://localhost:8080/"
        },
        "id": "UJ1O5N2CrdTV",
        "outputId": "248e64b6-a752-4a06-f07d-c33d0f8801cc"
      },
      "execution_count": null,
      "outputs": [
        {
          "output_type": "stream",
          "name": "stdout",
          "text": [
            "Volume balok dengan ukuran 4x3x2 adalah: 24\n"
          ]
        }
      ]
    },
    {
      "cell_type": "code",
      "source": [
        "def hitung_rata_rata(nilai):\n",
        "    total = 0\n",
        "    jumlah = 0\n",
        "    for n in nilai:\n",
        "        if 0 <= n <= 100:\n",
        "            total += n\n",
        "            jumlah += 1\n",
        "        else:\n",
        "            print(\"Nilai\", n, \"tidak valid dan diabaikan.\")\n",
        "    return total / jumlah\n",
        "\n",
        "print(\"Rata-rata:\", hitung_rata_rata([90, 70, 120, -5, 80]))\n"
      ],
      "metadata": {
        "colab": {
          "base_uri": "https://localhost:8080/"
        },
        "id": "g4GhYaCLrghe",
        "outputId": "834fb858-be5a-41d9-a76f-61e74299799d"
      },
      "execution_count": null,
      "outputs": [
        {
          "output_type": "stream",
          "name": "stdout",
          "text": [
            "Nilai 120 tidak valid dan diabaikan.\n",
            "Nilai -5 tidak valid dan diabaikan.\n",
            "Rata-rata: 80.0\n"
          ]
        }
      ]
    },
    {
      "cell_type": "code",
      "source": [
        "def tentukan_predikat(nilai):\n",
        "    if not isinstance(nilai, (int, float)):\n",
        "        return \"Error: input harus angka\"\n",
        "    if nilai >= 85:\n",
        "        return \"A\"\n",
        "    elif nilai >= 70:\n",
        "        return \"B\"\n",
        "    elif nilai >= 60:\n",
        "        return \"C\"\n",
        "    elif nilai >= 50:\n",
        "        return \"D\"\n",
        "    else:\n",
        "        return \"E\"\n",
        "\n",
        "print(tentukan_predikat(\"bagus\"))\n"
      ],
      "metadata": {
        "colab": {
          "base_uri": "https://localhost:8080/"
        },
        "id": "aT0IiwmOrqAN",
        "outputId": "2fd2aef2-7707-4034-b0c9-b5831052e3cf"
      },
      "execution_count": null,
      "outputs": [
        {
          "output_type": "stream",
          "name": "stdout",
          "text": [
            "Error: input harus angka\n"
          ]
        }
      ]
    },
    {
      "cell_type": "code",
      "source": [
        "def hitung_faktorial(n):\n",
        "    if n < 0:\n",
        "        return \"Tidak bisa menghitung faktorial bilangan negatif\"\n",
        "    hasil = 1\n",
        "    while n > 1:\n",
        "        hasil *= n\n",
        "        n -= 1\n",
        "    return hasil\n",
        "\n",
        "print(hitung_faktorial(-3))\n"
      ],
      "metadata": {
        "colab": {
          "base_uri": "https://localhost:8080/"
        },
        "id": "N8lqhZher3ey",
        "outputId": "a83cbcd7-8a3d-4413-db32-7e4edf43daa6"
      },
      "execution_count": null,
      "outputs": [
        {
          "output_type": "stream",
          "name": "stdout",
          "text": [
            "Tidak bisa menghitung faktorial bilangan negatif\n"
          ]
        }
      ]
    },
    {
      "cell_type": "code",
      "source": [
        "def analisis_suhu(data, batas_panas=35, batas_dingin=15):\n",
        "    panas = 0\n",
        "    dingin = 0\n",
        "    for suhu in data:\n",
        "        if suhu >= batas_panas:\n",
        "            panas += 1\n",
        "        elif suhu <= batas_dingin:\n",
        "            dingin += 1\n",
        "    return panas, dingin\n",
        "\n",
        "print(analisis_suhu([36, 30, 14, 25, 38, 16, 28]))\n"
      ],
      "metadata": {
        "id": "p2miIHhHsB42",
        "outputId": "0324c760-7868-46e7-bada-c962cdec28e1",
        "colab": {
          "base_uri": "https://localhost:8080/"
        }
      },
      "execution_count": null,
      "outputs": [
        {
          "output_type": "stream",
          "name": "stdout",
          "text": [
            "(2, 1)\n"
          ]
        }
      ]
    }
  ]
}