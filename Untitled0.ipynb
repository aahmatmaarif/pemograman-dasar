{
  "nbformat": 4,
  "nbformat_minor": 0,
  "metadata": {
    "colab": {
      "provenance": [],
      "authorship_tag": "ABX9TyO17a+agU+g9g98msI8HOh1",
      "include_colab_link": true
    },
    "kernelspec": {
      "name": "python3",
      "display_name": "Python 3"
    },
    "language_info": {
      "name": "python"
    }
  },
  "cells": [
    {
      "cell_type": "markdown",
      "metadata": {
        "id": "view-in-github",
        "colab_type": "text"
      },
      "source": [
        "<a href=\"https://colab.research.google.com/github/aahmatmaarif/pemograman-dasar/blob/main/Untitled0.ipynb\" target=\"_parent\"><img src=\"https://colab.research.google.com/assets/colab-badge.svg\" alt=\"Open In Colab\"/></a>"
      ]
    },
    {
      "cell_type": "code",
      "execution_count": null,
      "metadata": {
        "colab": {
          "base_uri": "https://localhost:8080/"
        },
        "id": "Zcn5n5qp0UsH",
        "outputId": "5b1768da-1413-4544-9e23-ef6fbc1eeef7"
      },
      "outputs": [
        {
          "output_type": "stream",
          "name": "stdout",
          "text": [
            "Pengunjung adalah orang dewasa.\n"
          ]
        }
      ],
      "source": [
        "# Variabel untuk menyimpan umur pengunjung umur: int = 20\n",
        "# Program hanya akan mencetak pesan jika umur di atas 17 if umur > 17:\n",
        "print(\"Pengunjung adalah orang dewasa.\")"
      ]
    },
    {
      "cell_type": "code",
      "source": [
        "username = input(\"Masukkan username: \")\n",
        "password = input (\"Masukkan password: \")\n",
        "if username == \"arif\" and password == \"arif1234\": print(\"Login berhasil\")\n",
        "else:print(\"Login gagal\")"
      ],
      "metadata": {
        "colab": {
          "base_uri": "https://localhost:8080/"
        },
        "id": "rRp4NHq10r-r",
        "outputId": "8bcdbf20-07c9-4937-9667-34a4b9d45c64"
      },
      "execution_count": null,
      "outputs": [
        {
          "output_type": "stream",
          "name": "stdout",
          "text": [
            "Masukkan username: arif\n",
            "Masukkan password: arif1234\n",
            "Login berhasil\n"
          ]
        }
      ]
    },
    {
      "cell_type": "code",
      "source": [
        "# program untuk mengecek bonus dan diskon\n",
        "\n",
        "total_belanja = input(\"Total belanja: Rp \")\n",
        "\n",
        "# jumlah yang harus dibayar adalah berapa total belanjaannya\n",
        "# tapi kalau dapat diskon akan berkurang\n",
        "bayar = int(total_belanja)\n",
        "# jika dia belanja di atas 100rb maka berikan bonus dan diskon\n",
        "if int(total_belanja) > 100000:\n",
        "  print(\"Selamat Karena Belanja\")\n",
        "  print(\"dan diskon 5%\")\n",
        "# hitung diskonnya\n",
        "diskon = int(total_belanja) * 5/100 #5%\n",
        "bayar = int(total_belanja)-diskon\n",
        "\n",
        "# cetak strukprint(\"Total yang harus dibayar: Rp %s\" % bayar)\n",
        "print(\"Terima kasih sudah berbelanja di Toko Kami\")\n",
        "print (\"Kami Tunggu kunjungan anda selanjutnya.\")"
      ],
      "metadata": {
        "colab": {
          "base_uri": "https://localhost:8080/"
        },
        "id": "UGRRPxFA1X8K",
        "outputId": "f4d15135-5721-4fe4-ebc0-ff60abb205f6"
      },
      "execution_count": null,
      "outputs": [
        {
          "output_type": "stream",
          "name": "stdout",
          "text": [
            "Total belanja: Rp 300000\n",
            "Selamat Karena Belanja\n",
            "dan diskon 5%\n",
            "Terima kasih sudah berbelanja di Toko Kami\n",
            "Kami Tunggu kunjungan anda selanjutnya.\n"
          ]
        }
      ]
    },
    {
      "cell_type": "code",
      "source": [
        "# Variabel untuk memeriksa apakah ada notifikasi baru\n",
        "ada_notifikasi_baru: bool = True\n",
        "if ada_notifikasi_baru: print(\"Anda memiliki pesan baru!\")"
      ],
      "metadata": {
        "colab": {
          "base_uri": "https://localhost:8080/"
        },
        "id": "iSLCB38V3ce4",
        "outputId": "16e00379-4729-4f84-aa07-b6ed581a49e8"
      },
      "execution_count": null,
      "outputs": [
        {
          "output_type": "stream",
          "name": "stdout",
          "text": [
            "Anda memiliki pesan baru!\n"
          ]
        }
      ]
    },
    {
      "cell_type": "code",
      "source": [
        "umur = input(\"Berapa umur kamu: \")\n",
        "if int(umur) >= 18:\n",
        "   print(\"Kamu boleh membuat SIM\")\n",
        "\n",
        "else:\n",
        "   print(\"Kamu belum boleh membuat SIM\")"
      ],
      "metadata": {
        "colab": {
          "base_uri": "https://localhost:8080/"
        },
        "id": "24eXZOZaIEoz",
        "outputId": "7f9bee9f-2bf7-4b02-97c9-d5bae01bdf7a"
      },
      "execution_count": 31,
      "outputs": [
        {
          "output_type": "stream",
          "name": "stdout",
          "text": [
            "Berapa umur kamu: 18\n",
            "Kamu boleh membuat SIM\n"
          ]
        }
      ]
    },
    {
      "cell_type": "code",
      "source": [
        "total_belanja = 250000 #asumsikan total belanja di atas 20rb\n",
        "\n",
        "if total_belanja > 200000:\n",
        "   diskon = total_belanja * 0.10\n",
        "   total_bayar = total_belanja - diskon\n",
        "   print(f\"Anda mendapat diskon! Total bayar: Rp {total_bayar}\")\n",
        "else:\n",
        "   print(f\"Total bayar: Rp {total_belanja}\")"
      ],
      "metadata": {
        "colab": {
          "base_uri": "https://localhost:8080/"
        },
        "id": "gZZwGf094YAg",
        "outputId": "850520c9-9d79-4fec-ea9e-5bb695ce1a70"
      },
      "execution_count": null,
      "outputs": [
        {
          "output_type": "stream",
          "name": "stdout",
          "text": [
            "Anda mendapat diskon! Total bayar: Rp 225000.0\n"
          ]
        }
      ]
    },
    {
      "cell_type": "code",
      "source": [
        "angka = int(input (\"Masukkan bilangan: \"))\n",
        "if angka % 2 == 0:\n",
        "   print(\"Bilangan Genap\")\n",
        "else:\n",
        "   print(\"Bilangan Ganjil\")"
      ],
      "metadata": {
        "colab": {
          "base_uri": "https://localhost:8080/"
        },
        "id": "uaYG-fGW6fKo",
        "outputId": "3f5ba873-0381-44db-dead-768933b804f6"
      },
      "execution_count": null,
      "outputs": [
        {
          "output_type": "stream",
          "name": "stdout",
          "text": [
            "Masukkan bilangan: 67\n",
            "Bilangan Ganjil\n"
          ]
        }
      ]
    },
    {
      "cell_type": "code",
      "source": [
        "nilai = 80\n",
        "if nilai >= 85:\n",
        "   print(\"Luar biasa! Nilai A\")\n",
        "elif nilai >= 70: print(\"Bagus! Nilai B\")\n",
        "elif nilai >= 60: print(\"Cukup. Nilai C\")\n",
        "\n",
        "else:\n",
        "     print(\"Nilai kurang, perlu belajar lebih giat.\")"
      ],
      "metadata": {
        "colab": {
          "base_uri": "https://localhost:8080/"
        },
        "id": "BA4NBH8O7pVQ",
        "outputId": "57e237d3-f36e-425b-801e-82ee36aec09f"
      },
      "execution_count": null,
      "outputs": [
        {
          "output_type": "stream",
          "name": "stdout",
          "text": [
            "Bagus! Nilai B\n"
          ]
        }
      ]
    },
    {
      "cell_type": "code",
      "source": [
        "# Menentukan jenis diskon berdasarkan hari\n",
        "hari: str = \"Sabtu\"\n",
        "\n",
        "if hari == \"Sabtu\" or hari == \"Minggu\":\n",
        "   diskon: float = 0.20 # Diskon 20%\n",
        "   print(f\"Selamat! Anda mendapat diskon akhir pekan sebesar {diskon*100}%.\")\n",
        "elif hari == \"Jumat\":\n",
        "     diskon: float = 0.15 # Diskon\n",
        "     print(f\"Diskon spesial Jumat! Anda mendapat potongan {diskon*100}%.\")\n",
        "else:\n",
        "    diskon: float = 0.05 # Diskon 5% print(f\"Anda mendapat diskon hari biasa sebesar {diskon*100}%.\")"
      ],
      "metadata": {
        "colab": {
          "base_uri": "https://localhost:8080/"
        },
        "id": "VYAlhoQG8E3n",
        "outputId": "69a4f069-c267-4a38-f9b1-fd9a6048ec45"
      },
      "execution_count": null,
      "outputs": [
        {
          "output_type": "stream",
          "name": "stdout",
          "text": [
            "Selamat! Anda mendapat diskon akhir pekan sebesar 20.0%.\n"
          ]
        }
      ]
    },
    {
      "cell_type": "code",
      "source": [
        "rupiah = int(input(\"Masukkan jumlah uang (Rp): \"))\n",
        "print(\"1. Dollar (USD)\")\n",
        "print(\"2. Euro (EUR)\")\n",
        "print(\"3. Yen (JPY)\")\n",
        "pilih = int(input(\"Pilih konversi (1/2/3): \"))\n",
        "\n",
        "if pilih == 1:\n",
        "   print(\"Dalam Dollar:\", rupiah / 15000)\n",
        "elif pilih == 2:\n",
        "   print(\"Dalam Euro:\", rupiah / 16000)\n",
        "\n",
        "elif pilih == 3:\n",
        "   print(\"Dalam Yen:\", rupiah / 120)\n",
        "else:\n",
        "   print(\"Pilihan tidak valid\")"
      ],
      "metadata": {
        "colab": {
          "base_uri": "https://localhost:8080/"
        },
        "id": "uZMqK9zo9C1i",
        "outputId": "d6b2d6a5-0f3e-40a2-8f8c-0088cfceeba8"
      },
      "execution_count": null,
      "outputs": [
        {
          "output_type": "stream",
          "name": "stdout",
          "text": [
            "Masukkan jumlah uang (Rp): 1\n",
            "1. Dollar (USD)\n",
            "2. Euro (EUR)\n",
            "3. Yen (JPY)\n",
            "Pilih konversi (1/2/3): 1\n",
            "Dalam Dollar: 6.666666666666667e-05\n"
          ]
        }
      ]
    },
    {
      "cell_type": "code",
      "source": [],
      "metadata": {
        "id": "VABhhad8-IVJ"
      },
      "execution_count": null,
      "outputs": []
    }
  ]
}