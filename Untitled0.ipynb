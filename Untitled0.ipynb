{
  "nbformat": 4,
  "nbformat_minor": 0,
  "metadata": {
    "colab": {
      "provenance": [],
      "authorship_tag": "ABX9TyNm7Hj/coEaovlEbR2NmACT",
      "include_colab_link": true
    },
    "kernelspec": {
      "name": "python3",
      "display_name": "Python 3"
    },
    "language_info": {
      "name": "python"
    }
  },
  "cells": [
    {
      "cell_type": "markdown",
      "metadata": {
        "id": "view-in-github",
        "colab_type": "text"
      },
      "source": [
        "<a href=\"https://colab.research.google.com/github/aahmatmaarif/pemograman-dasar/blob/main/Untitled0.ipynb\" target=\"_parent\"><img src=\"https://colab.research.google.com/assets/colab-badge.svg\" alt=\"Open In Colab\"/></a>"
      ]
    },
    {
      "cell_type": "code",
      "execution_count": 2,
      "metadata": {
        "colab": {
          "base_uri": "https://localhost:8080/"
        },
        "id": "lY6xgxh3jlUT",
        "outputId": "3ce5ab06-aeb3-4c4d-c1fc-41eceed6a0d1"
      },
      "outputs": [
        {
          "output_type": "stream",
          "name": "stdout",
          "text": [
            "==================================================\n",
            "SELAMAT DATANG DI KAFE GENKI\n",
            "==================================================\n",
            "Menu Minuman & Makanan:\n",
            "1. Kopi Hitam    = Rp 12.000\n",
            "2. Teh Manis     = Rp 8.000\n",
            "3. Roti Bakar    = Rp 15.000\n",
            "4. Mie Instan    = Rp 10.000\n",
            "==================================================\n",
            "Silakan masukkan nomor pilihan Anda (1-4): 4\n",
            "Masukkan jumlah pesanan: 5\n",
            "\n",
            "====================================\n",
            "Anda memesan 5 Mie Instan dengan total Rp 50000\n",
            "Kategori Diskon : Diskon 70%\n",
            "Potongan Harga  : Rp 35000\n",
            "Total Bayar     : Rp 15000\n",
            "====================================\n",
            "\n",
            "Masukkan jumlah uang Anda: Rp 100000\n",
            "Uang kembalian Anda: Rp 85000\n",
            "\n",
            "Terima kasih telah berbelanja di Kafe Genki!\n",
            "==================================================\n"
          ]
        }
      ],
      "source": [
        "print(\"=\"*50)\n",
        "print(\"SELAMAT DATANG DI KAFE GENKI\")\n",
        "print(\"=\"*50)\n",
        "print(\"Menu Minuman & Makanan:\")\n",
        "print(\"1. Kopi Hitam    = Rp 12.000\")\n",
        "print(\"2. Teh Manis     = Rp 8.000\")\n",
        "print(\"3. Roti Bakar    = Rp 15.000\")\n",
        "print(\"4. Mie Instan    = Rp 10.000\")\n",
        "print(\"=\"*50)\n",
        "\n",
        "pilihan_str = input(\"Silakan masukkan nomor pilihan Anda (1-4): \")\n",
        "pilihan = int(pilihan_str)\n",
        "nama_pesanan = \"\"\n",
        "harga = 0\n",
        "\n",
        "if pilihan == 1:\n",
        "    nama_pesanan = \"Kopi Hitam\"\n",
        "    harga = 12000\n",
        "elif pilihan == 2:\n",
        "    nama_pesanan = \"Teh Manis\"\n",
        "    harga = 8000\n",
        "elif pilihan == 3:\n",
        "    nama_pesanan = \"Roti Bakar\"\n",
        "    harga = 15000\n",
        "elif pilihan == 4:\n",
        "    nama_pesanan = \"Mie Instan\"\n",
        "    harga = 10000\n",
        "else:\n",
        "    print(\"Maaf, pilihan tidak valid. Silakan jalankan ulang program.\")\n",
        "    exit()\n",
        "\n",
        "jumlah = int(input(\"Masukkan jumlah pesanan: \"))\n",
        "total = harga * jumlah\n",
        "\n",
        "# ===============================\n",
        "# Bagian Penentuan Diskon\n",
        "# ===============================\n",
        "if total >= 50000:\n",
        "    diskon = 0.70\n",
        "    kategori = \"Diskon 70%\"\n",
        "elif total >= 30000:\n",
        "    diskon = 0.50\n",
        "    kategori = \"Diskon 50%\"\n",
        "elif total >= 15000:\n",
        "    diskon = 0.30\n",
        "    kategori = \"Diskon 30%\"\n",
        "else:\n",
        "    diskon = 0\n",
        "    kategori = \"Tidak ada diskon\"\n",
        "\n",
        "potongan = total * diskon\n",
        "total_bayar = total - potongan\n",
        "\n",
        "print(\"\\n====================================\")\n",
        "print(f\"Anda memesan {jumlah} {nama_pesanan} dengan total Rp {total}\")\n",
        "print(f\"Kategori Diskon : {kategori}\")\n",
        "print(f\"Potongan Harga  : Rp {int(potongan)}\")\n",
        "print(f\"Total Bayar     : Rp {int(total_bayar)}\")\n",
        "print(\"====================================\\n\")\n",
        "\n",
        "uang_dibayar = int(input(\"Masukkan jumlah uang Anda: Rp \"))\n",
        "kembalian = uang_dibayar - total_bayar\n",
        "\n",
        "if kembalian > 0:\n",
        "    print(f\"Uang kembalian Anda: Rp {int(kembalian)}\")\n",
        "elif kembalian == 0:\n",
        "    print(\"Uang Anda pas. Terima kasih telah berbelanja!\")\n",
        "else:\n",
        "    print(f\"Uang Anda kurang Rp {abs(int(kembalian))}\")\n",
        "\n",
        "print(\"\\nTerima kasih telah berbelanja di Kafe Genki!\")\n",
        "print(\"=\"*50)\n"
      ]
    }
  ]
}