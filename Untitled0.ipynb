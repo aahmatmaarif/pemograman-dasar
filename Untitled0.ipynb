{
  "cells": [
    {
      "cell_type": "markdown",
      "metadata": {
        "id": "view-in-github",
        "colab_type": "text"
      },
      "source": [
        "<a href=\"https://colab.research.google.com/github/aahmatmaarif/pemograman-dasar/blob/main/Untitled0.ipynb\" target=\"_parent\"><img src=\"https://colab.research.google.com/assets/colab-badge.svg\" alt=\"Open In Colab\"/></a>"
      ]
    },
    {
      "cell_type": "code",
      "execution_count": null,
      "metadata": {
        "id": "gDhhk1xZtr89",
        "colab": {
          "base_uri": "https://localhost:8080/"
        },
        "outputId": "cfd540cb-fbec-4e73-ff20-838ff8e719b0"
      },
      "outputs": [
        {
          "output_type": "stream",
          "name": "stdout",
          "text": [
            "Berapa porsi makan yang Anda beli? : 6\n",
            "Siapa Nama Pelanggan ? : arif\n",
            "Nama Pelanggan: arif\n",
            "Total Porsi: 6.0 total porsi yang di beli\n"
          ]
        }
      ],
      "source": [
        "\n",
        "total = float(input(\"Berapa porsi makan yang Anda beli? : \"))\n",
        "nama = input(\"Siapa Nama Pelanggan ? : \")\n",
        "\n",
        "print(\"Nama Pelanggan:\", nama)\n",
        "print(\"Total Porsi:\", total, \"total porsi yang di beli\")"
      ]
    },
    {
      "cell_type": "code",
      "source": [
        "food = \"sate ayam\"\n",
        "print(\"arif mau membeli\", food )\n",
        "\n",
        "drink= (\"kukubima susu\")\n",
        "print(\"arif mau mebeli\",drink)\n",
        "print(\"arif mau mebeli\",drink)\n",
        "print(\"arif mau mebeli\",drink)\n",
        "\n",
        "\n"
      ],
      "metadata": {
        "colab": {
          "base_uri": "https://localhost:8080/"
        },
        "id": "fwoVW--HOpW4",
        "outputId": "3e1a9542-794c-4198-e025-4e8fefe3beb6"
      },
      "execution_count": null,
      "outputs": [
        {
          "output_type": "stream",
          "name": "stdout",
          "text": [
            "arif mau membeli sate ayam\n",
            "arif mau mebeli kukubima susu\n",
            "arif mau mebeli kukubima susu\n",
            "arif mau mebeli kukubima susu\n"
          ]
        }
      ]
    },
    {
      "cell_type": "code",
      "execution_count": null,
      "metadata": {
        "colab": {
          "base_uri": "https://localhost:8080/"
        },
        "id": "7S4nKs6RX0bH",
        "outputId": "9f5b4d00-779a-4dbb-c52d-1762fde965e7"
      },
      "outputs": [
        {
          "output_type": "stream",
          "name": "stdout",
          "text": [
            "Penjumlahan: 16\n",
            "Pengurangan: 8\n",
            "Perkalian: 48\n",
            "Pembagian: 3.0\n",
            "pembulatan 3.0\n"
          ]
        }
      ],
      "source": [
        "#kalkulator sederhana\n",
        "a = 12\n",
        "b = 4\n",
        "\n",
        "print(\"Penjumlahan:\", a + b)\n",
        "print(\"Pengurangan:\", a - b)\n",
        "print(\"Perkalian:\", a * b)\n",
        "print(\"Pembagian:\", a / b)\n",
        "print(\"pembulatan\",a / b)\n",
        "\n"
      ]
    },
    {
      "cell_type": "code",
      "source": [
        "#kalkulator kasir\n",
        "print(\"---makanan dan minuman anda---\")\n",
        "nama_makanan= int(input(\"sate ayam\"))\n",
        "nama_minuman= int(input(\"nutrisari\"))\n",
        "print(\"total harga =\",total)"
      ],
      "metadata": {
        "colab": {
          "base_uri": "https://localhost:8080/"
        },
        "id": "CE9cM2h1RynG",
        "outputId": "ad522349-2c98-4ace-f3b5-32abb6f94d39"
      },
      "execution_count": null,
      "outputs": [
        {
          "output_type": "stream",
          "name": "stdout",
          "text": [
            "---makanan dan minuman anda---\n",
            "sate ayam 12000\n",
            "nutrisari 8000\n",
            "total harga = 2.0\n"
          ]
        }
      ]
    },
    {
      "cell_type": "code",
      "execution_count": null,
      "metadata": {
        "id": "MxgYrVBkZebI",
        "colab": {
          "base_uri": "https://localhost:8080/"
        },
        "outputId": "245eb085-9eda-485a-d095-4fb26de39303"
      },
      "outputs": [
        {
          "output_type": "stream",
          "name": "stdout",
          "text": [
            "Masukkan total detik: 123567\n",
            "Hasil Konversi: 34 Jam, 19 Menit, 27 Detik\n"
          ]
        }
      ],
      "source": [
        "# Konversi Waktu\n",
        "total_detik = int(input(\"Masukkan total detik: \"))\n",
        "\n",
        "# Hitung jam, menit, detik\n",
        "jam = total_detik // 3600\n",
        "sisa_detik = total_detik % 3600\n",
        "menit = sisa_detik // 60\n",
        "detik = sisa_detik % 60\n",
        "\n",
        "# Output hasil konversi\n",
        "print(f\"Hasil Konversi: {jam} Jam, {menit} Menit, {detik} Detik\")"
      ]
    },
    {
      "cell_type": "code",
      "execution_count": null,
      "metadata": {
        "id": "hHEeF0lAaTk7",
        "colab": {
          "base_uri": "https://localhost:8080/"
        },
        "outputId": "bc8f8ab8-d301-48dc-a026-14c904b013b6"
      },
      "outputs": [
        {
          "output_type": "stream",
          "name": "stdout",
          "text": [
            "Masukkan nilai Tugas 1: 85\n",
            "Masukkan nilai Tugas 2: 90\n",
            "Masukkan nilai UTS: 85\n",
            "Masukkan nilai UAS: 90\n",
            "Masukkan nilai Kehadiran: 80\n",
            "Masukkan standar kelulusan: 85\n",
            "\n",
            "Nilai Akhir Mahasiswa : 87.0\n",
            "Standar Kelulusan     : 85.0\n",
            "Apakah Mahasiswa Lulus? True\n"
          ]
        }
      ],
      "source": [
        "# Menghitung Nilai Akhir Mahasiswa\n",
        "\n",
        "# Input nilai mahasiswa\n",
        "tugas1 = float(input(\"Masukkan nilai Tugas 1: \"))\n",
        "tugas2 = float(input(\"Masukkan nilai Tugas 2: \"))\n",
        "uts = float(input(\"Masukkan nilai UTS: \"))\n",
        "uas = float(input(\"Masukkan nilai UAS: \"))\n",
        "kehadiran = float(input(\"Masukkan nilai Kehadiran: \"))\n",
        "\n",
        "# hitung nilai akhir\n",
        "nilai_mahasiswa = (0.2 * tugas1) + (0.2 * tugas2) + (0.2 * uts) + (0.3 * uas) + (0.1 * kehadiran)\n",
        "\n",
        "# input standar kelulusan\n",
        "standar_kelulusan = float(input(\"Masukkan standar kelulusan: \"))\n",
        "\n",
        "# cek kelulusan\n",
        "apakah_lulus = nilai_mahasiswa >= standar_kelulusan\n",
        "perlu_remedial = nilai_mahasiswa < standar_kelulusan\n",
        "\n",
        "# Output hasil\n",
        "print(f\"\\nNilai Akhir Mahasiswa : {nilai_mahasiswa}\")\n",
        "print(f\"Standar Kelulusan     : {standar_kelulusan}\")\n",
        "print(f\"Apakah Mahasiswa Lulus? {apakah_lulus}\")\n"
      ]
    },
    {
      "cell_type": "code",
      "source": [
        "belanja = 1600000\n",
        "diskon = (0, 0.5 * belanja)[belanja > 900000]\n",
        "total_harga = belanja - diskon\n",
        "\n",
        "print(\"total belanja :\", belanja)\n",
        "print(\"diskon        :\", diskon)\n",
        "print(\"total harga setelah diskon =\", total_harga)"
      ],
      "metadata": {
        "colab": {
          "base_uri": "https://localhost:8080/"
        },
        "id": "jPMhQXlCcnbA",
        "outputId": "06604b68-060e-4a71-ae36-c12d604e3106"
      },
      "execution_count": null,
      "outputs": [
        {
          "output_type": "stream",
          "name": "stdout",
          "text": [
            "total belanja : 1600000\n",
            "diskon        : 800000.0\n",
            "total harga setelah diskon = 800000.0\n"
          ]
        }
      ]
    }
  ],
  "metadata": {
    "colab": {
      "provenance": [],
      "authorship_tag": "ABX9TyOt0AjxNPiGhXut9J1iYNeU",
      "include_colab_link": true
    },
    "kernelspec": {
      "display_name": "Python 3",
      "name": "python3"
    },
    "language_info": {
      "name": "python"
    }
  },
  "nbformat": 4,
  "nbformat_minor": 0
}