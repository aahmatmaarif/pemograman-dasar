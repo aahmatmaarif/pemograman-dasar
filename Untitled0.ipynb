{
  "nbformat": 4,
  "nbformat_minor": 0,
  "metadata": {
    "colab": {
      "provenance": [],
      "authorship_tag": "ABX9TyMeOl0nwVxzYViBkh/wrn69",
      "include_colab_link": true
    },
    "kernelspec": {
      "name": "python3",
      "display_name": "Python 3"
    },
    "language_info": {
      "name": "python"
    }
  },
  "cells": [
    {
      "cell_type": "markdown",
      "metadata": {
        "id": "view-in-github",
        "colab_type": "text"
      },
      "source": [
        "<a href=\"https://colab.research.google.com/github/aahmatmaarif/pemograman-dasar/blob/main/Untitled0.ipynb\" target=\"_parent\"><img src=\"https://colab.research.google.com/assets/colab-badge.svg\" alt=\"Open In Colab\"/></a>"
      ]
    },
    {
      "cell_type": "code",
      "execution_count": 6,
      "metadata": {
        "colab": {
          "base_uri": "https://localhost:8080/"
        },
        "id": "UA6BgnkNY2XB",
        "outputId": "4bee200f-dece-45d7-d230-2f8be4f3e0da"
      },
      "outputs": [
        {
          "output_type": "stream",
          "name": "stdout",
          "text": [
            "List: [\"Ahmat ma'arif\", 19, 'Botung, pasaman, sumatra barat', 'sepak bola', 'elektro', 4232401013]\n",
            "Tuple: (\"Ahmat ma'arif\", 19, 'Botung, pasaman, sumatra barat', 'sepak bola', 'elektro', 4232401013)\n",
            "Set: {'Botung, pasaman, sumatra barat', \"Ahmat ma'arif\", 'sepak bola', 19, 4232401013, 'elektro'}\n",
            "Dictionary: {'Nama': \"Ahmat ma'arif\", 'Umur': 19, 'Alamat': 'Botung, pasaman, sumatra barat', 'Hobi': 'sepak bola', 'Jurusan': 'elektro', 'NIM': 4232401013}\n"
          ]
        }
      ],
      "source": [
        "#Biodata\n",
        "nama = \"Ahmat ma'arif\"\n",
        "umur = 19\n",
        "alamat =\"Botung, pasaman, sumatra barat\"\n",
        "hobi = \"sepak bola\"\n",
        "jurusan= \"elektro\"\n",
        "nim = 4232401013\n",
        "\n",
        "# Implementasi non-primitif\n",
        "biodata_list = [nama, umur, alamat, hobi, jurusan, nim ]\n",
        "biodata_tuple =(nama, umur, alamat, hobi, jurusan, nim )\n",
        "biodata_set = {nama, umur, alamat, hobi, jurusan, nim}\n",
        "biodata_dict ={\n",
        "    \"Nama\": nama,\n",
        "    \"Umur\": umur,\n",
        "    \"Alamat\": alamat,\n",
        "    \"Hobi\": hobi,\n",
        "    \"Jurusan\": jurusan,\n",
        "    \"NIM\":nim\n",
        "}\n",
        "\n",
        "# Output\n",
        "print(\"List:\", biodata_list)\n",
        "print(\"Tuple:\", biodata_tuple)\n",
        "print(\"Set:\", biodata_set)\n",
        "print(\"Dictionary:\", biodata_dict)"
      ]
    }
  ]
}