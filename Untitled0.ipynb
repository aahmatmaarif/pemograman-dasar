{
  "nbformat": 4,
  "nbformat_minor": 0,
  "metadata": {
    "colab": {
      "provenance": [],
      "authorship_tag": "ABX9TyNRuiG0ZkKawAiaQOvPhtpA",
      "include_colab_link": true
    },
    "kernelspec": {
      "name": "python3",
      "display_name": "Python 3"
    },
    "language_info": {
      "name": "python"
    }
  },
  "cells": [
    {
      "cell_type": "markdown",
      "metadata": {
        "id": "view-in-github",
        "colab_type": "text"
      },
      "source": [
        "<a href=\"https://colab.research.google.com/github/aahmatmaarif/pemograman-dasar/blob/main/Untitled0.ipynb\" target=\"_parent\"><img src=\"https://colab.research.google.com/assets/colab-badge.svg\" alt=\"Open In Colab\"/></a>"
      ]
    },
    {
      "cell_type": "code",
      "execution_count": null,
      "metadata": {
        "colab": {
          "base_uri": "https://localhost:8080/"
        },
        "id": "UIw6tBLsxa7h",
        "outputId": "6fa6c230-219b-49ee-8189-56c21f32a4b2"
      },
      "outputs": [
        {
          "output_type": "stream",
          "name": "stdout",
          "text": [
            "Subtotal           : Rp 120000\n",
            "Diskon             : Rp 18000.0\n",
            "Harga setelah diskon: Rp 102000.0\n",
            "PPN (11%)          : Rp 11220.0\n",
            "Total Akhir        : Rp 113220.0\n"
          ]
        }
      ],
      "source": [
        "# Program Kasir Sederhana\n",
        "\n",
        "# 1. Data input\n",
        "subtotal = 120000   # total harga semua barang\n",
        "anggota = True      # status keanggotaan\n",
        "\n",
        "# 2. Hitung diskon\n",
        "syarat_diskon = (subtotal > 100000) and anggota\n",
        "diskon = subtotal * 0.15 * syarat_diskon\n",
        "# kalau syarat benar (True=1), diskon dihitung\n",
        "# kalau salah (False=0), diskon = 0\n",
        "\n",
        "# 3. Hitung harga setelah diskon\n",
        "harga_setelah_diskon = subtotal - diskon\n",
        "\n",
        "# 4. Hitung PPN (11%)\n",
        "ppn = harga_setelah_diskon * 0.11\n",
        "\n",
        "# 5. Hitung total akhir\n",
        "total_akhir = harga_setelah_diskon + ppn\n",
        "\n",
        "# 6. Cetak hasil\n",
        "print(\"Subtotal           : Rp\", subtotal)\n",
        "print(\"Diskon             : Rp\", diskon)\n",
        "print(\"Harga setelah diskon: Rp\", harga_setelah_diskon)\n",
        "print(\"PPN (11%)          : Rp\", ppn)\n",
        "print(\"Total Akhir        : Rp\", total_akhir)"
      ]
    },
    {
      "cell_type": "code",
      "source": [
        "# Program kasir sederhana\n",
        "\n",
        "# --- Ambil data dari pengguna ---\n",
        "nama_pembeli = input(\"Nama lengkap: \")\n",
        "nama_barang = input(\"Nama produk: \")\n",
        "harga_satuan = float(input(\"Harga satuan (Rp): \"))\n",
        "jumlah_beli = int(input(\"Jumlah beli: \"))\n",
        "\n",
        "# --- Perhitungan total belanja ---\n",
        "total_harga = harga_satuan * jumlah_beli\n",
        "\n",
        "# --- Tampilkan struk pembelian ---\n",
        "print(\"\\n== Nota Pembelian ==\")\n",
        "print(\"Pelanggan   :\", nama_pembeli)\n",
        "print(\"Produk      :\", nama_barang)\n",
        "print(\"Harga Satuan: Rp %.2f\" % harga_satuan)\n",
        "print(\"Jumlah Beli :\", jumlah_beli)\n",
        "print(\"Total Bayar : Rp %.2f\" % total_harga)"
      ],
      "metadata": {
        "colab": {
          "base_uri": "https://localhost:8080/"
        },
        "id": "m82K4b_aseM2",
        "outputId": "35188cd6-a6d5-4fd0-a5af-6eaa4d6f61f4"
      },
      "execution_count": null,
      "outputs": [
        {
          "output_type": "stream",
          "name": "stdout",
          "text": [
            "Nama lengkap: arif\n",
            "Nama produk: sanford\n",
            "Harga satuan (Rp): 3000\n",
            "Jumlah beli: 5\n",
            "\n",
            "== Nota Pembelian ==\n",
            "Pelanggan   : arif\n",
            "Produk      : sanford\n",
            "Harga Satuan: Rp 3000.00\n",
            "Jumlah Beli : 5\n",
            "Total Bayar : Rp 15000.00\n"
          ]
        }
      ]
    },
    {
      "cell_type": "code",
      "source": [
        "# LATIHAN\n",
        "# Mengecek apakah suatu tahun termasuk tahun kabisat\n",
        "\n",
        "# --- Bagian input ---\n",
        "tahun = int(input(\"Tulis tahun yang ingin dicek: \"))\n",
        "kabisat = (tahun % 4 == 0 and tahun % 100 != 0) or (tahun % 400 == 0)\n",
        "\n",
        "# --- Bagian output ---\n",
        "print(\"Tahun %d adalah tahun kabisat? %s\" % (tahun,kabisat))"
      ],
      "metadata": {
        "id": "M_xCN_VX3EQ8",
        "colab": {
          "base_uri": "https://localhost:8080/"
        },
        "outputId": "c058d759-716f-4496-e714-faa820f854d6"
      },
      "execution_count": 32,
      "outputs": [
        {
          "output_type": "stream",
          "name": "stdout",
          "text": [
            "Tulis tahun yang ingin dicek: 2022\n",
            "Tahun 2022 adalah tahun kabisat? False\n"
          ]
        }
      ]
    }
  ]
}