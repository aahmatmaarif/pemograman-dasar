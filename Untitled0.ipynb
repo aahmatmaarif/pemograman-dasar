{
  "nbformat": 4,
  "nbformat_minor": 0,
  "metadata": {
    "colab": {
      "provenance": [],
      "authorship_tag": "ABX9TyNb82sA5OPVzl9Ht/xgMpQw",
      "include_colab_link": true
    },
    "kernelspec": {
      "name": "python3",
      "display_name": "Python 3"
    },
    "language_info": {
      "name": "python"
    }
  },
  "cells": [
    {
      "cell_type": "markdown",
      "metadata": {
        "id": "view-in-github",
        "colab_type": "text"
      },
      "source": [
        "<a href=\"https://colab.research.google.com/github/aahmatmaarif/pemograman-dasar/blob/main/Untitled0.ipynb\" target=\"_parent\"><img src=\"https://colab.research.google.com/assets/colab-badge.svg\" alt=\"Open In Colab\"/></a>"
      ]
    },
    {
      "cell_type": "code",
      "execution_count": null,
      "metadata": {
        "colab": {
          "base_uri": "https://localhost:8080/"
        },
        "id": "UIw6tBLsxa7h",
        "outputId": "6fa6c230-219b-49ee-8189-56c21f32a4b2"
      },
      "outputs": [
        {
          "output_type": "stream",
          "name": "stdout",
          "text": [
            "Subtotal           : Rp 120000\n",
            "Diskon             : Rp 18000.0\n",
            "Harga setelah diskon: Rp 102000.0\n",
            "PPN (11%)          : Rp 11220.0\n",
            "Total Akhir        : Rp 113220.0\n"
          ]
        }
      ],
      "source": [
        "# Program Kasir Sederhana\n",
        "\n",
        "# 1. Data input\n",
        "subtotal = 120000   # total harga semua barang\n",
        "anggota = True      # status keanggotaan\n",
        "\n",
        "# 2. Hitung diskon\n",
        "syarat_diskon = (subtotal > 100000) and anggota\n",
        "diskon = subtotal * 0.15 * syarat_diskon\n",
        "# kalau syarat benar (True=1), diskon dihitung\n",
        "# kalau salah (False=0), diskon = 0\n",
        "\n",
        "# 3. Hitung harga setelah diskon\n",
        "harga_setelah_diskon = subtotal - diskon\n",
        "\n",
        "# 4. Hitung PPN (11%)\n",
        "ppn = harga_setelah_diskon * 0.11\n",
        "\n",
        "# 5. Hitung total akhir\n",
        "total_akhir = harga_setelah_diskon + ppn\n",
        "\n",
        "# 6. Cetak hasil\n",
        "print(\"Subtotal           : Rp\", subtotal)\n",
        "print(\"Diskon             : Rp\", diskon)\n",
        "print(\"Harga setelah diskon: Rp\", harga_setelah_diskon)\n",
        "print(\"PPN (11%)          : Rp\", ppn)\n",
        "print(\"Total Akhir        : Rp\", total_akhir)"
      ]
    },
    {
      "cell_type": "code",
      "source": [
        "# Program kasir sederhana\n",
        "\n",
        "# --- Ambil data dari pengguna ---\n",
        "nama_pembeli = input(\"Nama lengkap: \")\n",
        "nama_barang = input(\"Nama produk: \")\n",
        "harga_satuan = float(input(\"Harga satuan (Rp): \"))\n",
        "jumlah_beli = int(input(\"Jumlah beli: \"))\n",
        "\n",
        "# --- Perhitungan total belanja ---\n",
        "total_harga = harga_satuan * jumlah_beli\n",
        "\n",
        "# --- Tampilkan struk pembelian ---\n",
        "print(\"\\n== Nota Pembelian ==\")\n",
        "print(\"Pelanggan   :\", nama_pembeli)\n",
        "print(\"Produk      :\", nama_barang)\n",
        "print(\"Harga Satuan: Rp %.2f\" % harga_satuan)\n",
        "print(\"Jumlah Beli :\", jumlah_beli)\n",
        "print(\"Total Bayar : Rp %.2f\" % total_harga)"
      ],
      "metadata": {
        "colab": {
          "base_uri": "https://localhost:8080/"
        },
        "id": "m82K4b_aseM2",
        "outputId": "35188cd6-a6d5-4fd0-a5af-6eaa4d6f61f4"
      },
      "execution_count": null,
      "outputs": [
        {
          "output_type": "stream",
          "name": "stdout",
          "text": [
            "Nama lengkap: arif\n",
            "Nama produk: sanford\n",
            "Harga satuan (Rp): 3000\n",
            "Jumlah beli: 5\n",
            "\n",
            "== Nota Pembelian ==\n",
            "Pelanggan   : arif\n",
            "Produk      : sanford\n",
            "Harga Satuan: Rp 3000.00\n",
            "Jumlah Beli : 5\n",
            "Total Bayar : Rp 15000.00\n"
          ]
        }
      ]
    },
    {
      "cell_type": "code",
      "source": [
        "# LATIHAN\n",
        "# Mengecek apakah suatu tahun termasuk tahun kabisat\n",
        "\n",
        "# --- Bagian input ---\n",
        "tahun = int(input(\"Tulis tahun yang ingin dicek: \"))\n",
        "kabisat = (tahun % 4 == 0 and tahun % 100 != 0) or (tahun % 400 == 0)\n",
        "\n",
        "# --- Bagian output ---\n",
        "print(\"Tahun %d adalah tahun kabisat? %s\" % (tahun,kabisat))"
      ],
      "metadata": {
        "id": "M_xCN_VX3EQ8",
        "colab": {
          "base_uri": "https://localhost:8080/"
        },
        "outputId": "c058d759-716f-4496-e714-faa820f854d6"
      },
      "execution_count": null,
      "outputs": [
        {
          "output_type": "stream",
          "name": "stdout",
          "text": [
            "Tulis tahun yang ingin dicek: 2022\n",
            "Tahun 2022 adalah tahun kabisat? False\n"
          ]
        }
      ]
    },
    {
      "cell_type": "code",
      "source": [
        "# --- Input dari pengguna ---\n",
        "nama_pelanggan = input(\"Nama pelanggan: \")\n",
        "status_member = input(\"Apakah pelanggan member? (ya/tidak): \").lower()\n",
        "total_belanja = float(input(\"Total belanja (Rp): \"))\n",
        "\n",
        "# --- Hitung diskon secara logika tanpa if ---\n",
        "syarat_diskon = (status_member == \"ya\") and (total_belanja > 100000)\n",
        "diskon = 0.15 * total_belanja * syarat_diskon  # akan 0 jika syarat_diskon == False\n",
        "\n",
        "# --- Harga setelah diskon ---\n",
        "harga_setelah_diskon = total_belanja - diskon\n",
        "\n",
        "# --- Hitung PPN 11% ---\n",
        "ppn = 0.11 * harga_setelah_diskon\n",
        "\n",
        "# --- Total akhir yang harus dibayar ---\n",
        "total_akhir = harga_setelah_diskon + ppn\n",
        "\n",
        "# --- Tampilkan hasil struk pembelian ---\n",
        "print(\"\\n== Struk Pembelian ==\")\n",
        "print(\"Nama Pelanggan        :\", nama_pelanggan)\n",
        "print(\"Status Member         :\", status_member)\n",
        "print(\"Total Belanja         : Rp %.2f\" % total_belanja)\n",
        "print(\"Diskon                : Rp %.2f\" % diskon)\n",
        "print(\"Harga Setelah Diskon  : Rp %.2f\" % harga_setelah_diskon)\n",
        "print(\"PPN 11%               : Rp %.2f\" % ppn)\n",
        "print(\"Total Akhir Pembayaran: Rp %.2f\"%total_akhir)"
      ],
      "metadata": {
        "colab": {
          "base_uri": "https://localhost:8080/",
          "height": 381
        },
        "id": "7wXMiPFyCz6c",
        "outputId": "9125ddec-e1c9-4ee6-c0b6-327d1a758859"
      },
      "execution_count": null,
      "outputs": [
        {
          "output_type": "stream",
          "name": "stdout",
          "text": [
            "Nama pelanggan: arif\n",
            "Apakah pelanggan member? (ya/tidak): ya\n",
            "Total belanja (Rp): 100000\n",
            "\n",
            "== Struk Pembelian ==\n",
            "Nama Pelanggan        : arif\n",
            "Status Member         : ya\n",
            "Total Belanja         : Rp 100000.00\n",
            "Diskon                : Rp 0.00\n",
            "Harga Setelah Diskon  : Rp 100000.00\n"
          ]
        },
        {
          "output_type": "error",
          "ename": "ValueError",
          "evalue": "unsupported format character ':' (0x3a) at index 22",
          "traceback": [
            "\u001b[0;31m---------------------------------------------------------------------------\u001b[0m",
            "\u001b[0;31mValueError\u001b[0m                                Traceback (most recent call last)",
            "\u001b[0;32m/tmp/ipython-input-2150731475.py\u001b[0m in \u001b[0;36m<cell line: 0>\u001b[0;34m()\u001b[0m\n\u001b[1;32m     24\u001b[0m \u001b[0mprint\u001b[0m\u001b[0;34m(\u001b[0m\u001b[0;34m\"Diskon                : Rp %.2f\"\u001b[0m \u001b[0;34m%\u001b[0m \u001b[0mdiskon\u001b[0m\u001b[0;34m)\u001b[0m\u001b[0;34m\u001b[0m\u001b[0;34m\u001b[0m\u001b[0m\n\u001b[1;32m     25\u001b[0m \u001b[0mprint\u001b[0m\u001b[0;34m(\u001b[0m\u001b[0;34m\"Harga Setelah Diskon  : Rp %.2f\"\u001b[0m \u001b[0;34m%\u001b[0m \u001b[0mharga_setelah_diskon\u001b[0m\u001b[0;34m)\u001b[0m\u001b[0;34m\u001b[0m\u001b[0;34m\u001b[0m\u001b[0m\n\u001b[0;32m---> 26\u001b[0;31m \u001b[0mprint\u001b[0m\u001b[0;34m(\u001b[0m\u001b[0;34m\"PPN 11%               : Rp %.2f\"\u001b[0m \u001b[0;34m%\u001b[0m \u001b[0mppn\u001b[0m\u001b[0;34m)\u001b[0m\u001b[0;34m\u001b[0m\u001b[0;34m\u001b[0m\u001b[0m\n\u001b[0m\u001b[1;32m     27\u001b[0m \u001b[0mprint\u001b[0m\u001b[0;34m(\u001b[0m\u001b[0;34m\"Total Akhir Pembayaran: Rp %.2f\"\u001b[0m\u001b[0;34m%\u001b[0m\u001b[0mtotal_akhir\u001b[0m\u001b[0;34m)\u001b[0m\u001b[0;34m\u001b[0m\u001b[0;34m\u001b[0m\u001b[0m\n",
            "\u001b[0;31mValueError\u001b[0m: unsupported format character ':' (0x3a) at index 22"
          ]
        }
      ]
    },
    {
      "cell_type": "code",
      "source": [
        "# Program Kasir Sederhana\n",
        "\n",
        "# Data input\n",
        "barang = [30000, 25000, 60000]   # daftar harga barang\n",
        "member = True                    # status keanggotaan\n",
        "\n",
        "# 1. Subtotal\n",
        "subtotal = sum(barang)\n",
        "\n",
        "# 2. Diskon (pakai ekspresi logika, tanpa if)\n",
        "diskon_persen = 0.15 * (member and subtotal > 100000)\n",
        "\n",
        "# 3. Jumlah diskon\n",
        "diskon = subtotal * diskon_persen\n",
        "\n",
        "# 4. Harga setelah diskon\n",
        "harga_setelah_diskon = subtotal - diskon\n",
        "\n",
        "# 5. PPN 11%\n",
        "ppn = harga_setelah_diskon * 0.11\n",
        "\n",
        "# 6. Total akhir\n",
        "total = harga_setelah_diskon + ppn\n",
        "\n",
        "# Output\n",
        "print(\"=== Struk Belanja ===\")\n",
        "print(\"Subtotal           : Rp\", subtotal)\n",
        "print(\"Diskon             : Rp\", diskon)\n",
        "print(\"Harga setelah diskon : Rp\", harga_setelah_diskon)\n",
        "print(\"PPN 11%            : Rp\", ppn)\n",
        "print(\"Total Bayar        : Rp\",total)"
      ],
      "metadata": {
        "colab": {
          "base_uri": "https://localhost:8080/"
        },
        "id": "3COmledGbw8J",
        "outputId": "e3409f39-571a-4093-d7fb-6b88a27ac5c0"
      },
      "execution_count": 2,
      "outputs": [
        {
          "output_type": "stream",
          "name": "stdout",
          "text": [
            "=== Struk Belanja ===\n",
            "Subtotal           : Rp 115000\n",
            "Diskon             : Rp 17250.0\n",
            "Harga setelah diskon : Rp 97750.0\n",
            "PPN 11%            : Rp 10752.5\n",
            "Total Bayar        : Rp 108502.5\n"
          ]
        }
      ]
    }
  ]
}