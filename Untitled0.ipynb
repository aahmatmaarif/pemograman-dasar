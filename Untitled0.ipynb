{
  "nbformat": 4,
  "nbformat_minor": 0,
  "metadata": {
    "colab": {
      "provenance": [],
      "authorship_tag": "ABX9TyPm6LJO3SxodLoKbEmdBHiF",
      "include_colab_link": true
    },
    "kernelspec": {
      "name": "python3",
      "display_name": "Python 3"
    },
    "language_info": {
      "name": "python"
    }
  },
  "cells": [
    {
      "cell_type": "markdown",
      "metadata": {
        "id": "view-in-github",
        "colab_type": "text"
      },
      "source": [
        "<a href=\"https://colab.research.google.com/github/aahmatmaarif/pemograman-dasar/blob/main/Untitled0.ipynb\" target=\"_parent\"><img src=\"https://colab.research.google.com/assets/colab-badge.svg\" alt=\"Open In Colab\"/></a>"
      ]
    },
    {
      "cell_type": "code",
      "execution_count": 20,
      "metadata": {
        "id": "uVA8KDg9iPIF",
        "colab": {
          "base_uri": "https://localhost:8080/"
        },
        "outputId": "90bbda6c-73a3-4855-a24d-ccf0a9fc3949"
      },
      "outputs": [
        {
          "output_type": "stream",
          "name": "stdout",
          "text": [
            "ahmat ma'arif\n",
            "4232401013\n",
            "botung_1 oktober 2005\n",
            "19\n",
            "teknik elektro\n",
            "RPE\n",
            "3\n",
            "smkn rao selatan\n",
            "futsal\n",
            "pemerogramaan dasar\n",
            "False\n"
          ]
        }
      ],
      "source": [
        "\n",
        "#Biodata saya\"\n",
        "\n",
        "nama=\"ahmat ma'arif\"\n",
        "nim=\"4232401013\"\n",
        "tempat_tanggal_lahir=\"botung_1 oktober 2005\"\n",
        "umur= 19\n",
        "jurusan=\"teknik elektro\"\n",
        "prodi=\"RPE\"\n",
        "semester= 3\n",
        "asal_sekolah = \"smkn rao selatan\"\n",
        "hobi=\"futsal\"\n",
        "matakuliah= 'pemerogramaan dasar'\n",
        "status_lulus= False\n",
        "\n",
        "\n",
        "\n",
        "print (nama)\n",
        "print (nim)\n",
        "print (tempat_tanggal_lahir)\n",
        "print (umur)\n",
        "print (jurusan)\n",
        "print (prodi)\n",
        "print (semester)\n",
        "print (asal_sekolah)\n",
        "print (hobi)\n",
        "print (matakuliah)\n",
        "print (status_lulus)\n"
      ]
    }
  ]
}